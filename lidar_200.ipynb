{
 "cells": [
  {
   "cell_type": "code",
   "execution_count": 2,
   "id": "5aea346a",
   "metadata": {},
   "outputs": [
    {
     "data": {
      "text/html": [
       "<div class=\"data-frame\"><p>58,988 rows × 4 columns</p><table class=\"data-frame\"><thead><tr><th></th><th>Column1</th><th>Column2</th><th>Column3</th><th>Column4</th></tr><tr><th></th><th title=\"Int64\">Int64</th><th title=\"Int64\">Int64</th><th title=\"Int64\">Int64</th><th title=\"Int64\">Int64</th></tr></thead><tbody><tr><th>1</th><td>20180122</td><td>95819</td><td>305</td><td>214</td></tr><tr><th>2</th><td>20180122</td><td>95822</td><td>299</td><td>211</td></tr><tr><th>3</th><td>20180122</td><td>95826</td><td>292</td><td>199</td></tr><tr><th>4</th><td>20180122</td><td>95829</td><td>321</td><td>208</td></tr><tr><th>5</th><td>20180122</td><td>95832</td><td>298</td><td>212</td></tr><tr><th>6</th><td>20180122</td><td>95835</td><td>327</td><td>212</td></tr><tr><th>7</th><td>20180122</td><td>95838</td><td>293</td><td>215</td></tr><tr><th>8</th><td>20180122</td><td>95840</td><td>309</td><td>218</td></tr><tr><th>9</th><td>20180122</td><td>95843</td><td>323</td><td>208</td></tr><tr><th>10</th><td>20180122</td><td>95846</td><td>292</td><td>217</td></tr><tr><th>11</th><td>20180122</td><td>95850</td><td>294</td><td>215</td></tr><tr><th>12</th><td>20180122</td><td>95852</td><td>323</td><td>218</td></tr><tr><th>13</th><td>20180122</td><td>95856</td><td>319</td><td>218</td></tr><tr><th>14</th><td>20180122</td><td>95858</td><td>313</td><td>214</td></tr><tr><th>15</th><td>20180122</td><td>95902</td><td>298</td><td>209</td></tr><tr><th>16</th><td>20180122</td><td>95905</td><td>296</td><td>211</td></tr><tr><th>17</th><td>20180122</td><td>95908</td><td>294</td><td>210</td></tr><tr><th>18</th><td>20180122</td><td>95911</td><td>314</td><td>215</td></tr><tr><th>19</th><td>20180122</td><td>95914</td><td>300</td><td>212</td></tr><tr><th>20</th><td>20180122</td><td>95917</td><td>324</td><td>219</td></tr><tr><th>21</th><td>20180122</td><td>95920</td><td>295</td><td>220</td></tr><tr><th>22</th><td>20180122</td><td>95922</td><td>320</td><td>214</td></tr><tr><th>23</th><td>20180122</td><td>95925</td><td>302</td><td>211</td></tr><tr><th>24</th><td>20180122</td><td>95928</td><td>303</td><td>215</td></tr><tr><th>25</th><td>20180122</td><td>95932</td><td>297</td><td>215</td></tr><tr><th>26</th><td>20180122</td><td>95934</td><td>306</td><td>210</td></tr><tr><th>27</th><td>20180122</td><td>95937</td><td>302</td><td>217</td></tr><tr><th>28</th><td>20180122</td><td>95940</td><td>296</td><td>215</td></tr><tr><th>29</th><td>20180122</td><td>95943</td><td>308</td><td>213</td></tr><tr><th>30</th><td>20180122</td><td>95947</td><td>303</td><td>211</td></tr><tr><th>&vellip;</th><td>&vellip;</td><td>&vellip;</td><td>&vellip;</td><td>&vellip;</td></tr></tbody></table></div>"
      ],
      "text/latex": [
       "\\begin{tabular}{r|cccc}\n",
       "\t& Column1 & Column2 & Column3 & Column4\\\\\n",
       "\t\\hline\n",
       "\t& Int64 & Int64 & Int64 & Int64\\\\\n",
       "\t\\hline\n",
       "\t1 & 20180122 & 95819 & 305 & 214 \\\\\n",
       "\t2 & 20180122 & 95822 & 299 & 211 \\\\\n",
       "\t3 & 20180122 & 95826 & 292 & 199 \\\\\n",
       "\t4 & 20180122 & 95829 & 321 & 208 \\\\\n",
       "\t5 & 20180122 & 95832 & 298 & 212 \\\\\n",
       "\t6 & 20180122 & 95835 & 327 & 212 \\\\\n",
       "\t7 & 20180122 & 95838 & 293 & 215 \\\\\n",
       "\t8 & 20180122 & 95840 & 309 & 218 \\\\\n",
       "\t9 & 20180122 & 95843 & 323 & 208 \\\\\n",
       "\t10 & 20180122 & 95846 & 292 & 217 \\\\\n",
       "\t11 & 20180122 & 95850 & 294 & 215 \\\\\n",
       "\t12 & 20180122 & 95852 & 323 & 218 \\\\\n",
       "\t13 & 20180122 & 95856 & 319 & 218 \\\\\n",
       "\t14 & 20180122 & 95858 & 313 & 214 \\\\\n",
       "\t15 & 20180122 & 95902 & 298 & 209 \\\\\n",
       "\t16 & 20180122 & 95905 & 296 & 211 \\\\\n",
       "\t17 & 20180122 & 95908 & 294 & 210 \\\\\n",
       "\t18 & 20180122 & 95911 & 314 & 215 \\\\\n",
       "\t19 & 20180122 & 95914 & 300 & 212 \\\\\n",
       "\t20 & 20180122 & 95917 & 324 & 219 \\\\\n",
       "\t21 & 20180122 & 95920 & 295 & 220 \\\\\n",
       "\t22 & 20180122 & 95922 & 320 & 214 \\\\\n",
       "\t23 & 20180122 & 95925 & 302 & 211 \\\\\n",
       "\t24 & 20180122 & 95928 & 303 & 215 \\\\\n",
       "\t25 & 20180122 & 95932 & 297 & 215 \\\\\n",
       "\t26 & 20180122 & 95934 & 306 & 210 \\\\\n",
       "\t27 & 20180122 & 95937 & 302 & 217 \\\\\n",
       "\t28 & 20180122 & 95940 & 296 & 215 \\\\\n",
       "\t29 & 20180122 & 95943 & 308 & 213 \\\\\n",
       "\t30 & 20180122 & 95947 & 303 & 211 \\\\\n",
       "\t$\\dots$ & $\\dots$ & $\\dots$ & $\\dots$ & $\\dots$ \\\\\n",
       "\\end{tabular}\n"
      ],
      "text/plain": [
       "\u001b[1m58988×4 DataFrame\u001b[0m\n",
       "\u001b[1m   Row \u001b[0m│\u001b[1m Column1  \u001b[0m\u001b[1m Column2 \u001b[0m\u001b[1m Column3 \u001b[0m\u001b[1m Column4 \u001b[0m\n",
       "\u001b[1m       \u001b[0m│\u001b[90m Int64    \u001b[0m\u001b[90m Int64   \u001b[0m\u001b[90m Int64   \u001b[0m\u001b[90m Int64   \u001b[0m\n",
       "───────┼─────────────────────────────────────\n",
       "     1 │ 20180122    95819      305      214\n",
       "     2 │ 20180122    95822      299      211\n",
       "     3 │ 20180122    95826      292      199\n",
       "     4 │ 20180122    95829      321      208\n",
       "     5 │ 20180122    95832      298      212\n",
       "     6 │ 20180122    95835      327      212\n",
       "     7 │ 20180122    95838      293      215\n",
       "     8 │ 20180122    95840      309      218\n",
       "     9 │ 20180122    95843      323      208\n",
       "    10 │ 20180122    95846      292      217\n",
       "    11 │ 20180122    95850      294      215\n",
       "   ⋮   │    ⋮         ⋮        ⋮        ⋮\n",
       " 58979 │ 20180124   120009      310      206\n",
       " 58980 │ 20180124   120012      330      208\n",
       " 58981 │ 20180124   120015      305      205\n",
       " 58982 │ 20180124   120018      301      202\n",
       " 58983 │ 20180124   120021      320      206\n",
       " 58984 │ 20180124   120023      313      208\n",
       " 58985 │ 20180124   120026      297      200\n",
       " 58986 │ 20180124   120030      323      204\n",
       " 58987 │ 20180124   120033      326      207\n",
       " 58988 │ 20180124   120036      321      208\n",
       "\u001b[36m                           58967 rows omitted\u001b[0m"
      ]
     },
     "execution_count": 2,
     "metadata": {},
     "output_type": "execute_result"
    }
   ],
   "source": [
    "using Plots\n",
    "using CSV\n",
    "#using DataFrames\n",
    "#plot(sin)\n",
    "using DataFrames\n",
    "using CSV\n",
    "df = CSV.read(\"sensor_data_200.txt\", DataFrame; header=0)"
   ]
  },
  {
   "cell_type": "code",
   "execution_count": null,
   "id": "3aeb24de",
   "metadata": {},
   "outputs": [],
   "source": []
  }
 ],
 "metadata": {
  "kernelspec": {
   "display_name": "Julia 1.6.2",
   "language": "julia",
   "name": "julia-1.6"
  },
  "language_info": {
   "file_extension": ".jl",
   "mimetype": "application/julia",
   "name": "julia",
   "version": "1.6.2"
  }
 },
 "nbformat": 4,
 "nbformat_minor": 5
}
